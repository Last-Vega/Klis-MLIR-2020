{
 "cells": [
  {
   "cell_type": "markdown",
   "metadata": {
    "id": "V5yg4nycCafH"
   },
   "source": [
    "# Outline\n",
    "\n",
    "## 1. Example Program: Viewing ranking as a simple regression problem\n",
    "\n",
    "## 2. Example Program: Enhanced implementation based on PyTorch"
   ]
  },
  {
   "cell_type": "markdown",
   "metadata": {
    "id": "tgICSzAgCkJQ"
   },
   "source": [
    "### 1.1 Import libariries & mount data folder\n"
   ]
  },
  {
   "cell_type": "code",
   "execution_count": 1,
   "metadata": {
    "executionInfo": {
     "elapsed": 1854,
     "status": "ok",
     "timestamp": 1606129952130,
     "user": {
      "displayName": "Hai-Tao Yu",
      "photoUrl": "",
      "userId": "06698935547344579595"
     },
     "user_tz": -540
    },
    "id": "NX2vbzinCoYL"
   },
   "outputs": [],
   "source": [
    "import numpy as np\n",
    "import pandas as pd\n",
    "import matplotlib.pyplot as plt\n",
    "%matplotlib inline"
   ]
  },
  {
   "cell_type": "code",
   "execution_count": 3,
   "metadata": {
    "colab": {
     "base_uri": "https://localhost:8080/",
     "height": 528
    },
    "executionInfo": {
     "elapsed": 4028,
     "status": "error",
     "timestamp": 1606129989899,
     "user": {
      "displayName": "Hai-Tao Yu",
      "photoUrl": "",
      "userId": "06698935547344579595"
     },
     "user_tz": -540
    },
    "id": "gFDqvp11TR-H",
    "outputId": "c667e711-b6d7-422d-fe81-420c8dae7c85"
   },
   "outputs": [
    {
     "ename": "KeyboardInterrupt",
     "evalue": "ignored",
     "output_type": "error",
     "traceback": [
      "\u001b[0;31m---------------------------------------------------------------------------\u001b[0m",
      "\u001b[0;31mKeyboardInterrupt\u001b[0m                         Traceback (most recent call last)",
      "\u001b[0;32m/usr/local/lib/python3.6/dist-packages/ipykernel/kernelbase.py\u001b[0m in \u001b[0;36m_input_request\u001b[0;34m(self, prompt, ident, parent, password)\u001b[0m\n\u001b[1;32m    728\u001b[0m             \u001b[0;32mtry\u001b[0m\u001b[0;34m:\u001b[0m\u001b[0;34m\u001b[0m\u001b[0;34m\u001b[0m\u001b[0m\n\u001b[0;32m--> 729\u001b[0;31m                 \u001b[0mident\u001b[0m\u001b[0;34m,\u001b[0m \u001b[0mreply\u001b[0m \u001b[0;34m=\u001b[0m \u001b[0mself\u001b[0m\u001b[0;34m.\u001b[0m\u001b[0msession\u001b[0m\u001b[0;34m.\u001b[0m\u001b[0mrecv\u001b[0m\u001b[0;34m(\u001b[0m\u001b[0mself\u001b[0m\u001b[0;34m.\u001b[0m\u001b[0mstdin_socket\u001b[0m\u001b[0;34m,\u001b[0m \u001b[0;36m0\u001b[0m\u001b[0;34m)\u001b[0m\u001b[0;34m\u001b[0m\u001b[0;34m\u001b[0m\u001b[0m\n\u001b[0m\u001b[1;32m    730\u001b[0m             \u001b[0;32mexcept\u001b[0m \u001b[0mException\u001b[0m\u001b[0;34m:\u001b[0m\u001b[0;34m\u001b[0m\u001b[0;34m\u001b[0m\u001b[0m\n",
      "\u001b[0;32m/usr/local/lib/python3.6/dist-packages/jupyter_client/session.py\u001b[0m in \u001b[0;36mrecv\u001b[0;34m(self, socket, mode, content, copy)\u001b[0m\n\u001b[1;32m    802\u001b[0m         \u001b[0;32mtry\u001b[0m\u001b[0;34m:\u001b[0m\u001b[0;34m\u001b[0m\u001b[0;34m\u001b[0m\u001b[0m\n\u001b[0;32m--> 803\u001b[0;31m             \u001b[0mmsg_list\u001b[0m \u001b[0;34m=\u001b[0m \u001b[0msocket\u001b[0m\u001b[0;34m.\u001b[0m\u001b[0mrecv_multipart\u001b[0m\u001b[0;34m(\u001b[0m\u001b[0mmode\u001b[0m\u001b[0;34m,\u001b[0m \u001b[0mcopy\u001b[0m\u001b[0;34m=\u001b[0m\u001b[0mcopy\u001b[0m\u001b[0;34m)\u001b[0m\u001b[0;34m\u001b[0m\u001b[0;34m\u001b[0m\u001b[0m\n\u001b[0m\u001b[1;32m    804\u001b[0m         \u001b[0;32mexcept\u001b[0m \u001b[0mzmq\u001b[0m\u001b[0;34m.\u001b[0m\u001b[0mZMQError\u001b[0m \u001b[0;32mas\u001b[0m \u001b[0me\u001b[0m\u001b[0;34m:\u001b[0m\u001b[0;34m\u001b[0m\u001b[0;34m\u001b[0m\u001b[0m\n",
      "\u001b[0;32m/usr/local/lib/python3.6/dist-packages/zmq/sugar/socket.py\u001b[0m in \u001b[0;36mrecv_multipart\u001b[0;34m(self, flags, copy, track)\u001b[0m\n\u001b[1;32m    490\u001b[0m         \"\"\"\n\u001b[0;32m--> 491\u001b[0;31m         \u001b[0mparts\u001b[0m \u001b[0;34m=\u001b[0m \u001b[0;34m[\u001b[0m\u001b[0mself\u001b[0m\u001b[0;34m.\u001b[0m\u001b[0mrecv\u001b[0m\u001b[0;34m(\u001b[0m\u001b[0mflags\u001b[0m\u001b[0;34m,\u001b[0m \u001b[0mcopy\u001b[0m\u001b[0;34m=\u001b[0m\u001b[0mcopy\u001b[0m\u001b[0;34m,\u001b[0m \u001b[0mtrack\u001b[0m\u001b[0;34m=\u001b[0m\u001b[0mtrack\u001b[0m\u001b[0;34m)\u001b[0m\u001b[0;34m]\u001b[0m\u001b[0;34m\u001b[0m\u001b[0;34m\u001b[0m\u001b[0m\n\u001b[0m\u001b[1;32m    492\u001b[0m         \u001b[0;31m# have first part already, only loop while more to receive\u001b[0m\u001b[0;34m\u001b[0m\u001b[0;34m\u001b[0m\u001b[0;34m\u001b[0m\u001b[0m\n",
      "\u001b[0;32mzmq/backend/cython/socket.pyx\u001b[0m in \u001b[0;36mzmq.backend.cython.socket.Socket.recv\u001b[0;34m()\u001b[0m\n",
      "\u001b[0;32mzmq/backend/cython/socket.pyx\u001b[0m in \u001b[0;36mzmq.backend.cython.socket.Socket.recv\u001b[0;34m()\u001b[0m\n",
      "\u001b[0;32mzmq/backend/cython/socket.pyx\u001b[0m in \u001b[0;36mzmq.backend.cython.socket._recv_copy\u001b[0;34m()\u001b[0m\n",
      "\u001b[0;32m/usr/local/lib/python3.6/dist-packages/zmq/backend/cython/checkrc.pxd\u001b[0m in \u001b[0;36mzmq.backend.cython.checkrc._check_rc\u001b[0;34m()\u001b[0m\n",
      "\u001b[0;31mKeyboardInterrupt\u001b[0m: ",
      "\nDuring handling of the above exception, another exception occurred:\n",
      "\u001b[0;31mKeyboardInterrupt\u001b[0m                         Traceback (most recent call last)",
      "\u001b[0;32m<ipython-input-3-d5df0069828e>\u001b[0m in \u001b[0;36m<module>\u001b[0;34m()\u001b[0m\n\u001b[1;32m      1\u001b[0m \u001b[0;32mfrom\u001b[0m \u001b[0mgoogle\u001b[0m\u001b[0;34m.\u001b[0m\u001b[0mcolab\u001b[0m \u001b[0;32mimport\u001b[0m \u001b[0mdrive\u001b[0m\u001b[0;34m\u001b[0m\u001b[0;34m\u001b[0m\u001b[0m\n\u001b[0;32m----> 2\u001b[0;31m \u001b[0mdrive\u001b[0m\u001b[0;34m.\u001b[0m\u001b[0mmount\u001b[0m\u001b[0;34m(\u001b[0m\u001b[0;34m'/content/drive'\u001b[0m\u001b[0;34m)\u001b[0m\u001b[0;34m\u001b[0m\u001b[0;34m\u001b[0m\u001b[0m\n\u001b[0m",
      "\u001b[0;32m/usr/local/lib/python3.6/dist-packages/google/colab/drive.py\u001b[0m in \u001b[0;36mmount\u001b[0;34m(mountpoint, force_remount, timeout_ms, use_metadata_server)\u001b[0m\n\u001b[1;32m    249\u001b[0m       \u001b[0;32mwith\u001b[0m \u001b[0m_output\u001b[0m\u001b[0;34m.\u001b[0m\u001b[0muse_tags\u001b[0m\u001b[0;34m(\u001b[0m\u001b[0;34m'dfs-auth-dance'\u001b[0m\u001b[0;34m)\u001b[0m\u001b[0;34m:\u001b[0m\u001b[0;34m\u001b[0m\u001b[0;34m\u001b[0m\u001b[0m\n\u001b[1;32m    250\u001b[0m         \u001b[0;32mwith\u001b[0m \u001b[0mopen\u001b[0m\u001b[0;34m(\u001b[0m\u001b[0mfifo\u001b[0m\u001b[0;34m,\u001b[0m \u001b[0;34m'w'\u001b[0m\u001b[0;34m)\u001b[0m \u001b[0;32mas\u001b[0m \u001b[0mfifo_file\u001b[0m\u001b[0;34m:\u001b[0m\u001b[0;34m\u001b[0m\u001b[0;34m\u001b[0m\u001b[0m\n\u001b[0;32m--> 251\u001b[0;31m           \u001b[0mfifo_file\u001b[0m\u001b[0;34m.\u001b[0m\u001b[0mwrite\u001b[0m\u001b[0;34m(\u001b[0m\u001b[0mget_code\u001b[0m\u001b[0;34m(\u001b[0m\u001b[0mauth_prompt\u001b[0m\u001b[0;34m)\u001b[0m \u001b[0;34m+\u001b[0m \u001b[0;34m'\\n'\u001b[0m\u001b[0;34m)\u001b[0m\u001b[0;34m\u001b[0m\u001b[0;34m\u001b[0m\u001b[0m\n\u001b[0m\u001b[1;32m    252\u001b[0m       \u001b[0mwrote_to_fifo\u001b[0m \u001b[0;34m=\u001b[0m \u001b[0;32mTrue\u001b[0m\u001b[0;34m\u001b[0m\u001b[0;34m\u001b[0m\u001b[0m\n\u001b[1;32m    253\u001b[0m     \u001b[0;32melif\u001b[0m \u001b[0mcase\u001b[0m \u001b[0;34m==\u001b[0m \u001b[0;36m5\u001b[0m\u001b[0;34m:\u001b[0m\u001b[0;34m\u001b[0m\u001b[0;34m\u001b[0m\u001b[0m\n",
      "\u001b[0;32m/usr/local/lib/python3.6/dist-packages/ipykernel/kernelbase.py\u001b[0m in \u001b[0;36mraw_input\u001b[0;34m(self, prompt)\u001b[0m\n\u001b[1;32m    702\u001b[0m             \u001b[0mself\u001b[0m\u001b[0;34m.\u001b[0m\u001b[0m_parent_ident\u001b[0m\u001b[0;34m,\u001b[0m\u001b[0;34m\u001b[0m\u001b[0;34m\u001b[0m\u001b[0m\n\u001b[1;32m    703\u001b[0m             \u001b[0mself\u001b[0m\u001b[0;34m.\u001b[0m\u001b[0m_parent_header\u001b[0m\u001b[0;34m,\u001b[0m\u001b[0;34m\u001b[0m\u001b[0;34m\u001b[0m\u001b[0m\n\u001b[0;32m--> 704\u001b[0;31m             \u001b[0mpassword\u001b[0m\u001b[0;34m=\u001b[0m\u001b[0;32mFalse\u001b[0m\u001b[0;34m,\u001b[0m\u001b[0;34m\u001b[0m\u001b[0;34m\u001b[0m\u001b[0m\n\u001b[0m\u001b[1;32m    705\u001b[0m         )\n\u001b[1;32m    706\u001b[0m \u001b[0;34m\u001b[0m\u001b[0m\n",
      "\u001b[0;32m/usr/local/lib/python3.6/dist-packages/ipykernel/kernelbase.py\u001b[0m in \u001b[0;36m_input_request\u001b[0;34m(self, prompt, ident, parent, password)\u001b[0m\n\u001b[1;32m    732\u001b[0m             \u001b[0;32mexcept\u001b[0m \u001b[0mKeyboardInterrupt\u001b[0m\u001b[0;34m:\u001b[0m\u001b[0;34m\u001b[0m\u001b[0;34m\u001b[0m\u001b[0m\n\u001b[1;32m    733\u001b[0m                 \u001b[0;31m# re-raise KeyboardInterrupt, to truncate traceback\u001b[0m\u001b[0;34m\u001b[0m\u001b[0;34m\u001b[0m\u001b[0;34m\u001b[0m\u001b[0m\n\u001b[0;32m--> 734\u001b[0;31m                 \u001b[0;32mraise\u001b[0m \u001b[0mKeyboardInterrupt\u001b[0m\u001b[0;34m\u001b[0m\u001b[0;34m\u001b[0m\u001b[0m\n\u001b[0m\u001b[1;32m    735\u001b[0m             \u001b[0;32melse\u001b[0m\u001b[0;34m:\u001b[0m\u001b[0;34m\u001b[0m\u001b[0;34m\u001b[0m\u001b[0m\n\u001b[1;32m    736\u001b[0m                 \u001b[0;32mbreak\u001b[0m\u001b[0;34m\u001b[0m\u001b[0;34m\u001b[0m\u001b[0m\n",
      "\u001b[0;31mKeyboardInterrupt\u001b[0m: "
     ]
    }
   ],
   "source": [
    "from google.colab import drive\n",
    "drive.mount('/content/drive')"
   ]
  },
  {
   "cell_type": "markdown",
   "metadata": {
    "id": "tA0fGRexC2oE"
   },
   "source": [
    "### 1.2 The program for loading the example data "
   ]
  },
  {
   "cell_type": "code",
   "execution_count": null,
   "metadata": {
    "id": "YZPE_1k0C3rd"
   },
   "outputs": [],
   "source": [
    "# The function for loading data\n",
    "def load_LETOR4(file, num_features=46):\n",
    "\t'''\n",
    "\t:param file: the input file\n",
    "\t:param num_features: the number of features\n",
    "\t:return: the list of tuples, each tuple consists of qid, doc_reprs, doc_labels\n",
    "\t'''\n",
    "  \n",
    "\tfeature_cols = [str(f_index) for f_index in range(1, num_features + 1)]\n",
    "\n",
    "\tdf = pd.read_csv(file, sep=\" \", header=None)\n",
    "\tdf.drop(columns=df.columns[[-2, -3, -5, -6, -8, -9]], axis=1, inplace=True)  # remove redundant keys\n",
    "\tassert num_features == len(df.columns) - 5\n",
    "\n",
    "\tfor c in range(1, num_features +2):           \t\t\t\t\t\t\t # remove keys per column from key:value\n",
    "\t\tdf.iloc[:, c] = df.iloc[:, c].apply(lambda x: x.split(\":\")[1])\n",
    "\n",
    "\tdf.columns = ['rele_truth', 'qid'] + feature_cols + ['#docid', 'inc', 'prob']\n",
    "\n",
    "\tfor c in ['rele_truth'] + feature_cols:\n",
    "\t\tdf[c] = df[c].astype(np.float32)\n",
    "\n",
    "\tdf['rele_binary'] = (df['rele_truth'] > 0).astype(np.float32)  # additional binarized column for later filtering\n",
    "\n",
    "\tlist_Qs = []\n",
    "\tqids = df.qid.unique()\n",
    "\tnp.random.shuffle(qids)\n",
    "\tfor qid in qids:\n",
    "\t\tsorted_qdf = df[df.qid == qid].sort_values('rele_truth', ascending=False)\n",
    "\n",
    "\t\tdoc_reprs = sorted_qdf[feature_cols].values\n",
    "\t\tdoc_labels = sorted_qdf['rele_truth'].values\n",
    "\n",
    "\t\tlist_Qs.append((qid, doc_reprs, doc_labels))\n",
    "\n",
    "\t#if buffer: pickle_save(list_Qs, file=perquery_file)\n",
    "\n",
    "\treturn list_Qs"
   ]
  },
  {
   "cell_type": "markdown",
   "metadata": {
    "id": "BkMlvFPDNrd7"
   },
   "source": [
    "#### The program for computing nDCG score"
   ]
  },
  {
   "cell_type": "code",
   "execution_count": null,
   "metadata": {
    "id": "G7ZbSRirNveg"
   },
   "outputs": [],
   "source": [
    "def discounted_cumu_gain_at_k(sorted_labels, cutoff):\n",
    "\t'''\n",
    "\t:param sorted_labels: ranked labels (either standard or predicted by a system) in the form of np array\n",
    "\t:param max_cutoff: the maximum rank position to be considered\n",
    "\t:param multi_lavel_rele: either the case of multi-level relevance or the case of listwise int-value, e.g., MQ2007-list\n",
    "\t:return: cumulative gains for each rank position\n",
    "\t'''\n",
    "\tnums = np.power(2.0, sorted_labels[0:cutoff]) - 1.0\n",
    "\n",
    "\tdenoms = np.log2(np.arange(cutoff) + 2.0)  # discounting factor\n",
    "\tdited_cumu_gain = np.sum(nums / denoms)\n",
    "\n",
    "\treturn dited_cumu_gain\n",
    "\n",
    "def ndcg_at_k(sys_sorted_labels, ideal_sorted_labels, k):\n",
    "\tsys_discounted_cumu_gain_at_k = discounted_cumu_gain_at_k(sys_sorted_labels, cutoff=k)\n",
    "\tideal_discounted_cumu_gain_at_k = discounted_cumu_gain_at_k(ideal_sorted_labels, cutoff=k)\n",
    "\tndcg_at_k = sys_discounted_cumu_gain_at_k / ideal_discounted_cumu_gain_at_k\n",
    "\treturn ndcg_at_k"
   ]
  },
  {
   "cell_type": "markdown",
   "metadata": {
    "id": "qHEKMXHdN3rj"
   },
   "source": [
    "### 1.3 The training prgoram\n",
    "\n",
    "Note: this program is based on the previous regression program."
   ]
  },
  {
   "cell_type": "code",
   "execution_count": null,
   "metadata": {
    "id": "vdL7Cx-sDdOA"
   },
   "outputs": [],
   "source": [
    "def reg_gradient_descent(list_Qs, theta, learning_rate=0.001, repeat_times=5):\n",
    "  cost_history = np.zeros(repeat_times)\n",
    "\n",
    "  for k in range(repeat_times): # number of iterations, i.e., epochs\n",
    "    for (qid, train_X, train_Y) in list_Qs: # the training dataset\n",
    "      m = len(train_Y)    # the number of documents that are associated with the same query\n",
    "      for i in range(m):  # perform regression for each document\n",
    "        x = train_X[i, :] # one document's feature vector\n",
    "        y = train_Y[i]    # the corresponding truth label\n",
    "\n",
    "        prediction = np.dot(x, theta)       # prediction\n",
    "\n",
    "        theta = theta - learning_rate*(x*(prediction - y)) # gradient descent\n",
    "\n",
    "    cost=0\n",
    "    for (qid, train_X, train_Y) in list_Qs:\n",
    "      predictions_per_query = train_X.dot(theta)\n",
    "      m = len(train_Y)\n",
    "      cost_per_query = 0.5 * m * np.sum(np.square(predictions_per_query-train_Y))\n",
    "      cost += cost_per_query\n",
    "\n",
    "    cost_history[k]  = cost # record the cost/loss per epoch\n",
    "        \n",
    "  return theta, cost_history"
   ]
  },
  {
   "cell_type": "markdown",
   "metadata": {
    "id": "FrtIWu5bOF17"
   },
   "source": [
    "### 1.4 The evaluation program for testing the ranking model based on nDCG"
   ]
  },
  {
   "cell_type": "code",
   "execution_count": null,
   "metadata": {
    "id": "wLPmpm0LG228"
   },
   "outputs": [],
   "source": [
    "def evaluate(test_list_Qs, optimized_theta, k=5):\n",
    "  nDCG=0.0\n",
    "  count = 0.0 # count the number of test queries\n",
    "  for (qid, test_X, test_Y) in test_list_Qs:\n",
    "    sum_per_query = np.sum(test_Y)\n",
    "    m = len(test_Y)\n",
    "    if m < k or sum_per_query <= 0: # filter out queries that: (1) include less documents than k; (2) include no relevant documents\n",
    "      continue\n",
    "    else:\n",
    "      count += 1\n",
    "    \n",
    "    predictions_per_query = test_X.dot(optimized_theta) # the predictions with respect to one query\n",
    "\n",
    "    ideal_sorted_labels = np.sort(test_Y)               # the default is ascending order\n",
    "    ideal_sorted_labels = np.flip(ideal_sorted_labels)  # convert to the descending order\n",
    "    #print('ideal_sorted_labels', ideal_sorted_labels)\n",
    "\n",
    "    sorted_pred_indice = np.argsort(-predictions_per_query) # get the indice that sort the predictions in a descending order\n",
    "    sys_sorted_labels = test_Y[sorted_pred_indice]          # get the corresponding ranking of standard labels \n",
    "    #print('sys_sorted_labels', sys_sorted_labels)\n",
    "\n",
    "    nDCG_per_query = ndcg_at_k(sys_sorted_labels=sys_sorted_labels, ideal_sorted_labels=ideal_sorted_labels, k=k)\n",
    "    nDCG += nDCG_per_query\n",
    "\n",
    "  nDCG = nDCG/count # using the average nDCG\n",
    "  return nDCG"
   ]
  },
  {
   "cell_type": "markdown",
   "metadata": {
    "id": "I1FmKey8OPDM"
   },
   "source": [
    "### 1.5 Demonstration: how to learn a ranking model based on linear regression."
   ]
  },
  {
   "cell_type": "code",
   "execution_count": null,
   "metadata": {
    "colab": {
     "base_uri": "https://localhost:8080/",
     "height": 922
    },
    "executionInfo": {
     "elapsed": 5458,
     "status": "ok",
     "timestamp": 1605836511802,
     "user": {
      "displayName": "Hai-Tao Yu",
      "photoUrl": "",
      "userId": "06698935547344579595"
     },
     "user_tz": -540
    },
    "id": "UdD_qwpCE-64",
    "outputId": "ca1d354d-8037-47db-b83d-a21a3b30cf65"
   },
   "outputs": [
    {
     "name": "stdout",
     "output_type": "stream",
     "text": [
      "Random initialization of parameters: [ 9.11178067e-01 -5.76038733e-01 -7.56432352e-01 -3.10080988e+00\n",
      "  1.05777579e+00  7.39447848e-01  3.52891209e-01  2.08065579e+00\n",
      "  2.99709110e-01  3.15223189e-01 -1.06872935e+00  1.51137306e-01\n",
      " -1.04792840e-01 -3.73001079e-01 -3.44608925e-01  6.42061337e-01\n",
      " -8.92084101e-01 -2.16751373e+00 -4.24147477e-01  6.04039538e-01\n",
      "  2.43232480e-01 -6.80492291e-01 -8.90267105e-02 -1.49162656e+00\n",
      "  1.39192665e+00  3.19284179e-01  6.85983976e-01 -3.90312304e-01\n",
      " -9.37911519e-04  5.29418193e-01 -7.75215575e-01  5.32072225e-01\n",
      "  1.34311213e+00  1.45271303e-01  7.44427055e-01  6.66068943e-01\n",
      "  8.03641929e-01  8.97238934e-01  1.27329434e-01  3.04482693e-02\n",
      "  1.54428396e+00 -1.16073570e+00 -4.93709809e-01 -4.23906257e-01\n",
      "  1.28294473e+00  7.69712851e-01]\n",
      "\n",
      " Optimized parameters:[ 0.09876928 -0.27279837 -0.07462729 -1.46644274  0.1178233   0.73944785\n",
      "  0.35289121  2.08065579  0.29970911  0.31522319 -0.41944495  0.22998108\n",
      "  0.29773113  0.4142304   0.15173159  0.05573503  0.06108406 -0.02543005\n",
      " -0.00381923  0.01403324 -0.02417877 -0.4896523   0.24263849 -0.51144888\n",
      "  0.18967888  0.03000677  0.11752894 -0.24260748 -0.24323014  0.14531849\n",
      " -0.44512365  0.28786331  1.31725487 -0.38568854 -0.00986132  0.08580959\n",
      "  0.19564402  0.53355017  0.05584474  0.46033015  0.09351403 -0.19459099\n",
      "  0.04848    -0.09251533  0.14008815  0.76971285]\n",
      "\n",
      " The nDCG score of the optimized ranking model is: 0.3997428426412317\n",
      "\n"
     ]
    },
    {
     "data": {
      "text/plain": [
       "[<matplotlib.lines.Line2D at 0x7faf596d2630>]"
      ]
     },
     "execution_count": 9,
     "metadata": {
      "tags": []
     },
     "output_type": "execute_result"
    },
    {
     "data": {
      "image/png": "[encoded data removed]",
      "text/plain": [
       "<Figure size 1080x576 with 1 Axes>"
      ]
     },
     "metadata": {
      "needs_background": "light",
      "tags": []
     },
     "output_type": "display_data"
    }
   ],
   "source": [
    "repeat_times = 10\n",
    "X_Dimension = 46\n",
    "\n",
    "debug = True # print some information if needed\n",
    "\n",
    "initial_theta = np.random.randn(X_Dimension) # initialization of the prameters\n",
    "if debug:\n",
    "  print('Random initialization of parameters: {}'.format(initial_theta))\n",
    "\n",
    "# load the training data\n",
    "file = '/content/drive/My Drive/Teaching/2020/KLIS-MLIR-2020/Data/vali_as_train.txt'\n",
    "train_list_Qs = load_LETOR4(file=file)\n",
    "\n",
    "#training the model based on gradient descent algorithm\n",
    "optimized_theta, cost_history = reg_gradient_descent(train_list_Qs, initial_theta, learning_rate=0.001, repeat_times=repeat_times)\n",
    "\n",
    "if debug:\n",
    "  print('\\n Optimized parameters:{}'.format(optimized_theta))\n",
    "\n",
    "# evaluate the ranking model by computing its nDCG score\n",
    "# load the test data\n",
    "file = '/content/drive/My Drive/Teaching/2020/KLIS-MLIR-2020/Data/test.txt'\n",
    "test_list_Qs = load_LETOR4(file=file)\n",
    "\n",
    "nDCG = evaluate(test_list_Qs=test_list_Qs, optimized_theta=optimized_theta)\n",
    "print('\\n The nDCG score of the optimized ranking model is:', nDCG)\n",
    "\n",
    "\n",
    "# show the cost variation w.r.t. the training process\n",
    "print()\n",
    "fig, ax = plt.subplots(figsize=(15,8))\n",
    "ax.set_ylabel('Cost')\n",
    "ax.set_xlabel('Number of times')\n",
    "ax.plot(range(repeat_times), cost_history[:repeat_times], 'b.')\n",
    "\n"
   ]
  },
  {
   "cell_type": "markdown",
   "metadata": {
    "id": "0KuFfBVUUQZa"
   },
   "source": [
    "### 2.1 Import libraries"
   ]
  },
  {
   "cell_type": "code",
   "execution_count": null,
   "metadata": {
    "colab": {
     "base_uri": "https://localhost:8080/"
    },
    "executionInfo": {
     "elapsed": 4770,
     "status": "ok",
     "timestamp": 1605836575696,
     "user": {
      "displayName": "Hai-Tao Yu",
      "photoUrl": "",
      "userId": "06698935547344579595"
     },
     "user_tz": -540
    },
    "id": "s-aT9BLoFPAm",
    "outputId": "f22ec6e9-40f6-494a-a0ba-78d3841c7210"
   },
   "outputs": [
    {
     "name": "stdout",
     "output_type": "stream",
     "text": [
      "Collecting ptranking\n",
      "\u001b[?25l  Downloading https://files.pythonhosted.org/packages/d1/10/1f39cedc6b26bb4fc9588f700f2a18bcec8a08f5f122ad1d47d54fc57324/ptranking-0.0.3-py3-none-any.whl (115kB)\n",
      "\r",
      "\u001b[K     |██▉                             | 10kB 17.5MB/s eta 0:00:01\r",
      "\u001b[K     |█████▋                          | 20kB 22.2MB/s eta 0:00:01\r",
      "\u001b[K     |████████▌                       | 30kB 26.3MB/s eta 0:00:01\r",
      "\u001b[K     |███████████▎                    | 40kB 18.1MB/s eta 0:00:01\r",
      "\u001b[K     |██████████████▏                 | 51kB 16.4MB/s eta 0:00:01\r",
      "\u001b[K     |█████████████████               | 61kB 18.4MB/s eta 0:00:01\r",
      "\u001b[K     |███████████████████▉            | 71kB 11.2MB/s eta 0:00:01\r",
      "\u001b[K     |██████████████████████▋         | 81kB 12.0MB/s eta 0:00:01\r",
      "\u001b[K     |█████████████████████████▌      | 92kB 12.3MB/s eta 0:00:01\r",
      "\u001b[K     |████████████████████████████▎   | 102kB 11.8MB/s eta 0:00:01\r",
      "\u001b[K     |███████████████████████████████▏| 112kB 11.8MB/s eta 0:00:01\r",
      "\u001b[K     |████████████████████████████████| 122kB 11.8MB/s \n",
      "\u001b[?25hRequirement already satisfied: tqdm in /usr/local/lib/python3.6/dist-packages (from ptranking) (4.41.1)\n",
      "Requirement already satisfied: numpy in /usr/local/lib/python3.6/dist-packages (from ptranking) (1.18.5)\n",
      "Installing collected packages: ptranking\n",
      "Successfully installed ptranking-0.0.3\n"
     ]
    }
   ],
   "source": [
    "!pip install ptranking"
   ]
  },
  {
   "cell_type": "markdown",
   "metadata": {
    "id": "U2SvBcfk2sL2"
   },
   "source": [
    "### 2.2 Import necessary classes provided by PTRanking"
   ]
  },
  {
   "cell_type": "code",
   "execution_count": null,
   "metadata": {
    "id": "x77KDXpnUrvR"
   },
   "outputs": [],
   "source": [
    "import torch\n",
    "from ptranking.data.data_utils import LTRDataset, SPLIT_TYPE"
   ]
  },
  {
   "cell_type": "markdown",
   "metadata": {
    "id": "AbFRHchC25Zh"
   },
   "source": [
    "### 2.3 Define a neural ranking class\n",
    "\n",
    "For more details, please refer to: https://wildltr.github.io/ptranking/how_to_start/Develop_A_New_Model/\n"
   ]
  },
  {
   "cell_type": "code",
   "execution_count": null,
   "metadata": {
    "id": "tkvzo9_EWwly"
   },
   "outputs": [],
   "source": [
    "import torch.nn as nn\n",
    "from ptranking.base.ranker import NeuralRanker\n",
    "\n",
    "mse = nn.MSELoss() # mean square error function provided by PyTorch\n",
    "\n",
    "class MLIRMSE(NeuralRanker):\n",
    "\tdef __init__(self, sf_para_dict=None, gpu=False, device=None):\n",
    "\t\tsuper(MLIRMSE, self).__init__(id='RankMSE', sf_para_dict=sf_para_dict, gpu=gpu, device=device)\n",
    "\t\tself.TL_AF = self.get_tl_af()\n",
    "\n",
    "\tdef inner_train(self, batch_pred, batch_label, **kwargs):\n",
    "\t\t'''\n",
    "\t\t:param batch_preds: [batch, ranking_size] each row represents the relevance predictions for documents within a ltr_adhoc\n",
    "\t\t:param batch_stds: [batch, ranking_size] each row represents the standard relevance grades for documents within a ltr_adhoc\n",
    "\t\t:return:\n",
    "\t\t'''\n",
    "\n",
    "\t\tbatch_loss = mse(batch_pred, batch_label)\n",
    "\t\t# gradient back-propagation\n",
    "\t\tself.optimizer.zero_grad()\t\n",
    "\t\tbatch_loss.backward()\n",
    "\t\tself.optimizer.step()\n",
    "\n",
    "\t\treturn batch_loss\n",
    "\n"
   ]
  },
  {
   "cell_type": "markdown",
   "metadata": {
    "id": "ShH5-C2J3Awk"
   },
   "source": [
    "### 2.4 Define a neural scoring fuction\n",
    "\n",
    "It is a component of the NeuralRanker\n"
   ]
  },
  {
   "cell_type": "code",
   "execution_count": null,
   "metadata": {
    "id": "mTfjsT5eYW5y"
   },
   "outputs": [],
   "source": [
    "from ptranking.ltr_adhoc.eval.parameter import ScoringFunctionParameter\n",
    "\n",
    "\n",
    "class MLIRSFP(ScoringFunctionParameter):\n",
    "    \"\"\"\n",
    "    The parameter class w.r.t. a neural scoring fuction\n",
    "    \"\"\"\n",
    "    def __init__(self):\n",
    "        super(MLIRSFP, self).__init__()\n",
    "\n",
    "    def default_para_dict(self):\n",
    "        \"\"\"\n",
    "        A default setting of the hyper-parameters of the stump neural scoring function.\n",
    "        \"\"\"\n",
    "        # feed-forward neural networks\n",
    "        ffnns_para_dict = dict(num_layers=5, HD_AF='R', HN_AF='R', TL_AF='S', apply_tl_af=True, BN=True, RD=False, FBN=False)\n",
    "\n",
    "        sf_para_dict = dict()\n",
    "        sf_para_dict['id'] = self.model_id\n",
    "        sf_para_dict[self.model_id] = ffnns_para_dict\n",
    "\n",
    "        self.sf_para_dict = sf_para_dict\n",
    "        return sf_para_dict\n",
    "\n",
    "  "
   ]
  },
  {
   "cell_type": "markdown",
   "metadata": {
    "id": "My32Q77g3HE8"
   },
   "source": [
    "### 2.5 Perform learning-to-rank based on PTRanking"
   ]
  },
  {
   "cell_type": "code",
   "execution_count": null,
   "metadata": {
    "colab": {
     "base_uri": "https://localhost:8080/"
    },
    "executionInfo": {
     "elapsed": 6096,
     "status": "ok",
     "timestamp": 1605839288723,
     "user": {
      "displayName": "Hai-Tao Yu",
      "photoUrl": "",
      "userId": "06698935547344579595"
     },
     "user_tz": -540
    },
    "id": "oFNG0J0YUjPw",
    "outputId": "c42ab891-3a24-4a8d-eb00-84e93cf6bb6d"
   },
   "outputs": [
    {
     "name": "stdout",
     "output_type": "stream",
     "text": [
      "tensor([0.4747, 0.4781, 0.5191])\n"
     ]
    }
   ],
   "source": [
    "from ptranking.data.data_utils import get_data_meta\n",
    "from ptranking.ltr_adhoc.eval.eval_utils import ndcg_at_ks, ndcg_at_k\n",
    "from ptranking.metric.adhoc_metric import torch_nDCG_at_k, torch_nDCG_at_ks\n",
    "\n",
    "gpu, device = False, None\n",
    "\n",
    "##- Data loading -##\n",
    "file_train = '/content/drive/My Drive/Teaching/2020/KLIS-MLIR-2020/Data/vali_as_train.txt'\n",
    "\n",
    "file_test = '/content/drive/My Drive/Teaching/2020/KLIS-MLIR-2020/Data/test.txt'\n",
    "\n",
    "train_data = LTRDataset(data_id='MQ2007_Super', file=file_train, split_type=SPLIT_TYPE.Train, batch_size=1, shuffle=True, presort=True, data_dict=None, eval_dict=None, buffer=False)\n",
    "\n",
    "test_data = LTRDataset(data_id='MQ2007_Super', file=file_test, split_type=SPLIT_TYPE.Test, shuffle=False, data_dict=None, batch_size=1, buffer=False)\n",
    "\n",
    "data_meta = get_data_meta(data_id='MQ2007_Super')\n",
    "\n",
    "sf_para_dict = MLIRSFP().default_para_dict()\n",
    "\n",
    "sf_para_dict['ffnns'].update(dict(num_features=data_meta['num_features']))\n",
    "\n",
    "\n",
    "# Initialize the ranking class as a ranker\n",
    "mlir_ranker = MLIRMSE(sf_para_dict=sf_para_dict)\n",
    "\n",
    "# Training\n",
    "epoch_loss = torch.cuda.FloatTensor([0.0]) if gpu else torch.FloatTensor([0.0])\n",
    "\n",
    "# Training for each query\n",
    "for qid, batch_rankings, batch_stds in train_data: # _, [batch, ranking_size, num_features], [batch, ranking_size]\n",
    "    if gpu: batch_rankings, batch_stds = batch_rankings.to(device), batch_stds.to(device)\n",
    "\n",
    "    batch_loss, stop_training = mlir_ranker.train(batch_rankings, batch_stds, qid=qid)\n",
    "\n",
    "    #print(batch_loss)\n",
    "    epoch_loss += batch_loss.item()\n",
    "\n",
    "\n",
    "# Testing\n",
    "ks=[1, 5, 10]\n",
    "sum_ndcg_at_ks = torch.zeros(len(ks))\n",
    "cnt = torch.zeros(1)\n",
    "already_sorted = True if test_data.presort else False\n",
    "for qid, batch_ranking, batch_labels in test_data: # _, [batch, ranking_size, num_features], [batch, ranking_size]\n",
    "\n",
    "    if torch.sum(batch_labels) <=0: # filter dumb queries\n",
    "      continue\n",
    "\n",
    "    if gpu: batch_ranking = batch_ranking.to(device)\n",
    "    batch_rele_preds = mlir_ranker.predict(batch_ranking)\n",
    "    if gpu: batch_rele_preds = batch_rele_preds.cpu()\n",
    "\n",
    "    _, batch_sorted_inds = torch.sort(batch_rele_preds, dim=1, descending=True)\n",
    "\n",
    "    batch_sys_sorted_labels = torch.gather(batch_labels, dim=1, index=batch_sorted_inds)\n",
    "    if already_sorted:\n",
    "        batch_ideal_sorted_labels = batch_labels\n",
    "    else:\n",
    "        batch_ideal_sorted_labels, _ = torch.sort(batch_labels, dim=1, descending=True)\n",
    "\n",
    "    batch_ndcg_at_ks = torch_nDCG_at_ks(batch_sys_sorted_labels=batch_sys_sorted_labels, batch_ideal_sorted_labels=batch_ideal_sorted_labels, ks=ks)\n",
    "\n",
    "    # default batch_size=1 due to testing data\n",
    "    sum_ndcg_at_ks = torch.add(sum_ndcg_at_ks, torch.squeeze(batch_ndcg_at_ks, dim=0))\n",
    "    cnt += 1\n",
    "\n",
    "avg_ndcg_at_ks = sum_ndcg_at_ks/cnt\n",
    "print(avg_ndcg_at_ks)"
   ]
  }
 ],
 "metadata": {
  "colab": {
   "collapsed_sections": [],
   "name": "Lecture_7_Beginning of Learning-to-Rank.ipynb",
   "provenance": []
  },
  "kernelspec": {
   "display_name": "Python 3",
   "language": "python",
   "name": "python3"
  },
  "language_info": {
   "codemirror_mode": {
    "name": "ipython",
    "version": 3
   },
   "file_extension": ".py",
   "mimetype": "text/x-python",
   "name": "python",
   "nbconvert_exporter": "python",
   "pygments_lexer": "ipython3",
   "version": "3.8.3"
  }
 },
 "nbformat": 4,
 "nbformat_minor": 1
}
