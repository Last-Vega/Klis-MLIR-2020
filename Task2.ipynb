{
 "cells": [
  {
   "cell_type": "code",
   "execution_count": 1,
   "metadata": {
    "colab": {
     "base_uri": "https://localhost:8080/",
     "height": 0
    },
    "id": "1EUE-CdAi7e-",
    "outputId": "8492a4a2-57de-4314-97ea-47e68e5f1270"
   },
   "outputs": [],
   "source": [
    "# google drive\n",
    "# from google.colab import drive\n",
    "# drive.mount('/content/drive')"
   ]
  },
  {
   "cell_type": "code",
   "execution_count": 2,
   "metadata": {
    "id": "K2Xz-oqsjBWs"
   },
   "outputs": [],
   "source": [
    "import numpy  as np\n",
    "import pandas as pd\n",
    "import matplotlib.pyplot as plt\n",
    "%matplotlib inline"
   ]
  },
  {
   "cell_type": "code",
   "execution_count": 3,
   "metadata": {
    "id": "7Ghg3B-xjWly"
   },
   "outputs": [],
   "source": [
    "# The function for loading data\n",
    "def load_LETOR4(file, num_features=46):\n",
    "    '''\n",
    "    :param file: the input file\n",
    "    :param num_features: the number of features\n",
    "    :return: the list of tuples, each tuple consists of qid, doc_reprs, doc_labels\n",
    "    '''\n",
    "  \n",
    "    feature_cols = [str(f_index) for f_index in range(1, num_features + 1)]\n",
    "\n",
    "    df = pd.read_csv(file, sep=\" \", header=None)\n",
    "    df.drop(columns=df.columns[[-2, -3, -5, -6, -8, -9]], axis=1, inplace=True)  # remove redundant keys\n",
    "    assert num_features == len(df.columns) - 5\n",
    "\n",
    "    for c in range(1, num_features +2): # remove keys per column from key:value\n",
    "        df.iloc[:, c] = df.iloc[:, c].apply(lambda x: x.split(\":\")[1])\n",
    "\n",
    "    df.columns = ['rele_truth', 'qid'] + feature_cols + ['#docid', 'inc', 'prob']\n",
    "\n",
    "    for c in ['rele_truth'] + feature_cols:\n",
    "        df[c] = df[c].astype(np.float32)\n",
    "\n",
    "    df['rele_binary'] = (df['rele_truth'] > 0).astype(np.float32)  # additional binarized column for later filtering\n",
    "\n",
    "    list_Qs = []\n",
    "    qids = df.qid.unique()\n",
    "    np.random.shuffle(qids)\n",
    "    for qid in qids:\n",
    "        sorted_qdf = df[df.qid == qid].sort_values('rele_truth', ascending=False)\n",
    "\n",
    "        doc_reprs = sorted_qdf[feature_cols].values\n",
    "        doc_labels = sorted_qdf['rele_truth'].values\n",
    "\n",
    "        list_Qs.append((qid, doc_reprs, doc_labels))\n",
    "\n",
    "    #if buffer: pickle_save(list_Qs, file=perquery_file)\n",
    "\n",
    "    return list_Qs"
   ]
  },
  {
   "cell_type": "code",
   "execution_count": 4,
   "metadata": {},
   "outputs": [],
   "source": [
    "# google clobal\n",
    "# train_file = '/content/drive/My Drive/KLIS-MLIR-2020/Data/vali_as_train.txt'\n",
    "# test_file = '/content/drive/My Drive/KLIS-MLIR-2020/Data/test.txt'\n",
    "\n",
    "# local jupyter notebook\n",
    "train_file = './vali_as_train.txt'\n",
    "test_file = './test.txt'\n",
    "\n",
    "train_list_Qs = load_LETOR4(file=train_file)\n",
    "test_list_Qs = load_LETOR4(file=test_file)"
   ]
  },
  {
   "cell_type": "code",
   "execution_count": 5,
   "metadata": {
    "id": "0QaOXmcQkUWE"
   },
   "outputs": [],
   "source": [
    "def mean_squared_error(m, prediction, t):\n",
    "    return (1/m) * np.sum( ( prediction - t ) **2 )"
   ]
  },
  {
   "cell_type": "code",
   "execution_count": 6,
   "metadata": {
    "id": "_xc97tXAmXem"
   },
   "outputs": [],
   "source": [
    "def gradient_descent(f, init_x, lr=0.01, step_num=20):\n",
    "    parameter = init_x\n",
    "    cost_history = np.zeros(step_num)\n",
    "    \n",
    "    for h in range(step_num):\n",
    "        for (qid, train_X, train_Y) in train_list_Qs:\n",
    "            for i in range(len(train_Y)):\n",
    "                x = train_X[i, :] \n",
    "                y = train_Y[i]    \n",
    "                prediction = np.dot(x, parameter)\n",
    "                grad = 2/float(len(train_Y)) * (x * (prediction - y))\n",
    "\n",
    "                parameter -= lr * grad\n",
    "    \n",
    "        cost=0\n",
    "        for (qid, train_X, train_Y) in train_list_Qs:\n",
    "            predictions_per_query = train_X.dot(parameter)\n",
    "            m = len(train_Y)\n",
    "            cost_per_query = mean_squared_error(m, predictions_per_query, train_Y)\n",
    "            cost += cost_per_query\n",
    "            # print(h, \":\", cost)\n",
    "        cost_history[h]  = cost # record the cost/loss per epoch\n",
    "\n",
    "    return parameter, cost_history\n",
    " "
   ]
  },
  {
   "cell_type": "code",
   "execution_count": 7,
   "metadata": {},
   "outputs": [],
   "source": [
    "def discounted_cumu_gain_at_k(sorted_labels, cutoff):\n",
    "    '''\n",
    "    :param sorted_labels: ranked labels (either standard or predicted by a system) in the form of np array\n",
    "    :param max_cutoff: the maximum rank position to be considered\n",
    "    :param multi_lavel_rele: either the case of multi-level relevance or the case of listwise int-value, e.g., MQ2007-list\n",
    "    :return: cumulative gains for each rank position\n",
    "    '''\n",
    "    nums = np.power(2.0, sorted_labels[0:cutoff]) - 1.0\n",
    "    denoms = np.log2(np.arange(cutoff) + 2.0)  # discounting factor\n",
    "    dited_cumu_gain = np.sum(nums / denoms)\n",
    "\n",
    "    return dited_cumu_gain\n",
    "\n",
    "def ndcg_at_k(sys_sorted_labels, ideal_sorted_labels, k):\n",
    "    sys_discounted_cumu_gain_at_k = discounted_cumu_gain_at_k(sys_sorted_labels, cutoff=k)\n",
    "    ideal_discounted_cumu_gain_at_k = discounted_cumu_gain_at_k(ideal_sorted_labels, cutoff=k)\n",
    "    ndcg_at_k = sys_discounted_cumu_gain_at_k / ideal_discounted_cumu_gain_at_k\n",
    "    return ndcg_at_k"
   ]
  },
  {
   "cell_type": "code",
   "execution_count": 8,
   "metadata": {
    "id": "LeH0uiWUtMlR"
   },
   "outputs": [],
   "source": [
    "def evaluate(test_list_Qs, optimized_theta, k=20):\n",
    "    nDCG=0.0\n",
    "    count = 0.0 # count the number of test queries\n",
    "    for (qid, test_X, test_Y) in test_list_Qs:\n",
    "        sum_per_query = np.sum(test_Y)\n",
    "        m = len(test_Y)\n",
    "        if m < k or sum_per_query <= 0: # filter out queries that: (1) include less documents than k; (2) include no relevant documents\n",
    "            continue\n",
    "        else:\n",
    "            count += 1\n",
    "    \n",
    "        predictions_per_query = test_X.dot(optimized_theta) # the predictions with respect to one query\n",
    "\n",
    "        ideal_sorted_labels = np.sort(test_Y)               # the default is ascending order\n",
    "        ideal_sorted_labels = np.flip(ideal_sorted_labels)  # convert to the descending order\n",
    "    \n",
    "\n",
    "        sorted_pred_indice = np.argsort(-predictions_per_query) # get the indice that sort the predictions in a descending order\n",
    "        sys_sorted_labels = test_Y[sorted_pred_indice]          # get the corresponding ranking of standard labels \n",
    "    \n",
    "\n",
    "        nDCG_per_query = ndcg_at_k(sys_sorted_labels=sys_sorted_labels, ideal_sorted_labels=ideal_sorted_labels, k=k)\n",
    "        nDCG += nDCG_per_query\n",
    "\n",
    "    nDCG = nDCG/count # using the average nDCG\n",
    "    return nDCG"
   ]
  },
  {
   "cell_type": "code",
   "execution_count": 9,
   "metadata": {},
   "outputs": [
    {
     "name": "stdout",
     "output_type": "stream",
     "text": [
      "\n",
      " Optimized parameters:[-1.27623752e-01 -1.38536961e-01  6.77130846e-01 -2.54086794e-01\n",
      "  2.75158717e-01 -3.32398348e-02 -1.25653022e-01 -2.09343355e+00\n",
      "  2.15596190e+00  1.04750692e+00 -9.13864950e-03  3.30249039e-02\n",
      " -7.95766888e-01  5.25303362e-01 -2.42634014e-01  4.25805559e-01\n",
      "  8.98060187e-02  2.44756053e-04  7.55080214e-02 -2.66560067e-01\n",
      " -6.97336795e-01  3.79330880e-01  5.59105227e-01 -4.92943524e-01\n",
      "  8.61724758e-02  5.69367098e-01  1.02506320e-01 -6.39229166e-01\n",
      "  2.63727283e-01 -1.29281287e+00  3.38785465e-01  8.92102358e-01\n",
      " -2.48579458e-01 -8.90021484e-01  2.94399749e-01  5.72024745e-01\n",
      "  8.55759626e-01  5.42279019e-02 -1.63582660e-01  1.76801171e-01\n",
      "  7.03980538e-02 -1.22260900e-01  4.30650167e-02 -1.46882332e-01\n",
      " -1.76490391e-02  2.09826017e-01]\n"
     ]
    }
   ],
   "source": [
    "step_num = 20\n",
    "X_Dimension = 46\n",
    "\n",
    "debug = True # print some information if needed\n",
    "\n",
    "init_x = np.random.randn(X_Dimension)\n",
    "train_list_Qs = load_LETOR4(file=train_file)\n",
    "optimized_theta, cost_history = gradient_descent(train_list_Qs, init_x, lr=0.01, step_num=step_num)\n",
    "\n",
    "if debug:\n",
    "  print('\\n Optimized parameters:{}'.format(optimized_theta))\n"
   ]
  },
  {
   "cell_type": "code",
   "execution_count": 10,
   "metadata": {},
   "outputs": [
    {
     "data": {
      "text/plain": [
       "array([242.13734297, 182.50493939, 157.8455399 , 144.67545246,\n",
       "       136.49772554, 130.89664732, 126.80345341, 123.67605908,\n",
       "       121.20967038, 119.21891989, 117.58379967, 116.22252098,\n",
       "       115.0769264 , 114.10420236, 113.27193774, 112.55504455,\n",
       "       111.93375912, 111.39229383, 110.91789699, 110.50017673])"
      ]
     },
     "execution_count": 10,
     "metadata": {},
     "output_type": "execute_result"
    }
   ],
   "source": [
    "cost_history"
   ]
  },
  {
   "cell_type": "code",
   "execution_count": 11,
   "metadata": {},
   "outputs": [],
   "source": [
    "test_list_Qs = load_LETOR4(file=test_file)\n",
    "nDCG = evaluate(test_list_Qs=test_list_Qs, optimized_theta=optimized_theta)"
   ]
  },
  {
   "cell_type": "code",
   "execution_count": 12,
   "metadata": {},
   "outputs": [
    {
     "name": "stdout",
     "output_type": "stream",
     "text": [
      "\n"
     ]
    },
    {
     "data": {
      "text/plain": [
       "[<matplotlib.lines.Line2D at 0x7f9238315ca0>]"
      ]
     },
     "execution_count": 12,
     "metadata": {},
     "output_type": "execute_result"
    },
    {
     "data": {
      "image/png": "[encoded data removed]",
      "text/plain": [
       "<Figure size 1080x576 with 1 Axes>"
      ]
     },
     "metadata": {
      "needs_background": "light"
     },
     "output_type": "display_data"
    }
   ],
   "source": [
    "print()\n",
    "fig, ax = plt.subplots(figsize=(15,8))\n",
    "ax.set_ylabel('Cost')\n",
    "ax.set_xlabel('Number of times')\n",
    "ax.plot(range(step_num), cost_history[:step_num], 'b.')\n",
    "\n"
   ]
  },
  {
   "cell_type": "code",
   "execution_count": 13,
   "metadata": {},
   "outputs": [
    {
     "name": "stdout",
     "output_type": "stream",
     "text": [
      "Requirement already satisfied: ptranking in /Users/watanabeshingo/opt/anaconda3/lib/python3.8/site-packages (0.0.3)\n",
      "Requirement already satisfied: tqdm in /Users/watanabeshingo/opt/anaconda3/lib/python3.8/site-packages (from ptranking) (4.47.0)\n",
      "Requirement already satisfied: numpy in /Users/watanabeshingo/opt/anaconda3/lib/python3.8/site-packages (from ptranking) (1.18.5)\n"
     ]
    }
   ],
   "source": [
    "!pip install ptranking"
   ]
  },
  {
   "cell_type": "code",
   "execution_count": 14,
   "metadata": {},
   "outputs": [],
   "source": [
    "import torch\n",
    "from ptranking.data.data_utils import LTRDataset, SPLIT_TYPE"
   ]
  },
  {
   "cell_type": "code",
   "execution_count": 15,
   "metadata": {},
   "outputs": [],
   "source": [
    "import torch.nn as nn\n",
    "from ptranking.base.ranker import NeuralRanker\n",
    "\n",
    "mse = nn.MSELoss() # mean square error function provided by PyTorch\n",
    "\n",
    "class MLIRMSE(NeuralRanker):\n",
    "    def __init__(self, sf_para_dict=None, gpu=False, device=None):\n",
    "        super(MLIRMSE, self).__init__(id='RankMSE', sf_para_dict=sf_para_dict, gpu=gpu, device=device)\n",
    "        self.TL_AF = self.get_tl_af()\n",
    "\n",
    "    def inner_train(self, batch_pred, batch_label, **kwargs):\n",
    "        '''\n",
    "        :param batch_preds: [batch, ranking_size] each row represents the relevance predictions for documents within a ltr_adhoc\n",
    "        :param batch_stds: [batch, ranking_size] each row represents the standard relevance grades for documents within a ltr_adhoc\n",
    "        :return:\n",
    "        '''\n",
    "\n",
    "        batch_loss = mse(batch_pred, batch_label)\n",
    "        self.optimizer.zero_grad()\t\n",
    "        batch_loss.backward()\n",
    "        self.optimizer.step()\n",
    "\n",
    "        return batch_loss\n",
    "\n"
   ]
  },
  {
   "cell_type": "code",
   "execution_count": 16,
   "metadata": {},
   "outputs": [],
   "source": [
    "from ptranking.ltr_adhoc.eval.parameter import ScoringFunctionParameter\n",
    "\n",
    "\n",
    "class MLIRSFP(ScoringFunctionParameter):\n",
    "    \"\"\"\n",
    "    The parameter class w.r.t. a neural scoring fuction\n",
    "    \"\"\"\n",
    "    def __init__(self):\n",
    "        super(MLIRSFP, self).__init__()\n",
    "\n",
    "    def default_para_dict(self):\n",
    "        \"\"\"\n",
    "        A default setting of the hyper-parameters of the stump neural scoring function.\n",
    "        \"\"\"\n",
    "        # feed-forward neural networks\n",
    "        ffnns_para_dict = dict(num_layers=5, HD_AF='R', HN_AF='R', TL_AF='S', apply_tl_af=True, BN=True, RD=False, FBN=False)\n",
    "\n",
    "        sf_para_dict = dict()\n",
    "        sf_para_dict['id'] = self.model_id\n",
    "        sf_para_dict[self.model_id] = ffnns_para_dict\n",
    "\n",
    "        self.sf_para_dict = sf_para_dict\n",
    "        return sf_para_dict\n",
    "\n"
   ]
  },
  {
   "cell_type": "code",
   "execution_count": 17,
   "metadata": {},
   "outputs": [
    {
     "name": "stdout",
     "output_type": "stream",
     "text": [
      "tensor([0.4724, 0.4829, 0.5163])\n"
     ]
    }
   ],
   "source": [
    "from ptranking.data.data_utils import get_data_meta\n",
    "from ptranking.ltr_adhoc.eval.eval_utils import ndcg_at_ks, ndcg_at_k\n",
    "from ptranking.metric.adhoc_metric import torch_nDCG_at_k, torch_nDCG_at_ks\n",
    "\n",
    "gpu, device = False, None\n",
    "\n",
    "##- Data loading -##\n",
    "# if colab\n",
    "# file_train = '/content/drive/My Drive/Teaching/2020/KLIS-MLIR-2020/Data/vali_as_train.txt'\n",
    "\n",
    "# file_test = '/content/drive/My Drive/Teaching/2020/KLIS-MLIR-2020/Data/test.txt'\n",
    "\n",
    "# if local jupyter notebook\n",
    "file_train = './vali_as_train.txt'\n",
    "file_test = './test.txt'\n",
    "\n",
    "\n",
    "train_data = LTRDataset(data_id='MQ2007_Super', file=file_train, split_type=SPLIT_TYPE.Train, batch_size=1, shuffle=True, presort=True, data_dict=None, eval_dict=None, buffer=False)\n",
    "\n",
    "test_data = LTRDataset(data_id='MQ2007_Super', file=file_test, split_type=SPLIT_TYPE.Test, shuffle=False, data_dict=None, batch_size=1, buffer=False)\n",
    "\n",
    "data_meta = get_data_meta(data_id='MQ2007_Super')\n",
    "\n",
    "sf_para_dict = MLIRSFP().default_para_dict()\n",
    "\n",
    "sf_para_dict['ffnns'].update(dict(num_features=data_meta['num_features']))\n",
    "\n",
    "\n",
    "# Initialize the ranking class as a ranker\n",
    "mlir_ranker = MLIRMSE(sf_para_dict=sf_para_dict)\n",
    "\n",
    "# Training\n",
    "epoch_loss = torch.cuda.FloatTensor([0.0]) if gpu else torch.FloatTensor([0.0])\n",
    "\n",
    "# Training for each query\n",
    "for qid, batch_rankings, batch_stds in train_data: # _, [batch, ranking_size, num_features], [batch, ranking_size]\n",
    "    if gpu: batch_rankings, batch_stds = batch_rankings.to(device), batch_stds.to(device)\n",
    "\n",
    "    batch_loss, stop_training = mlir_ranker.train(batch_rankings, batch_stds, qid=qid)\n",
    "\n",
    "    #print(batch_loss)\n",
    "    epoch_loss += batch_loss.item()\n",
    "\n",
    "\n",
    "# Testing\n",
    "ks=[1, 5, 10]\n",
    "sum_ndcg_at_ks = torch.zeros(len(ks))\n",
    "cnt = torch.zeros(1)\n",
    "already_sorted = True if test_data.presort else False\n",
    "for qid, batch_ranking, batch_labels in test_data: # _, [batch, ranking_size, num_features], [batch, ranking_size]\n",
    "\n",
    "    if torch.sum(batch_labels) <=0: # filter dumb queries\n",
    "      continue\n",
    "\n",
    "    if gpu: batch_ranking = batch_ranking.to(device)\n",
    "    batch_rele_preds = mlir_ranker.predict(batch_ranking)\n",
    "    if gpu: batch_rele_preds = batch_rele_preds.cpu()\n",
    "\n",
    "    _, batch_sorted_inds = torch.sort(batch_rele_preds, dim=1, descending=True)\n",
    "\n",
    "    batch_sys_sorted_labels = torch.gather(batch_labels, dim=1, index=batch_sorted_inds)\n",
    "    if already_sorted:\n",
    "        batch_ideal_sorted_labels = batch_labels\n",
    "    else:\n",
    "        batch_ideal_sorted_labels, _ = torch.sort(batch_labels, dim=1, descending=True)\n",
    "\n",
    "    batch_ndcg_at_ks = torch_nDCG_at_ks(batch_sys_sorted_labels=batch_sys_sorted_labels, batch_ideal_sorted_labels=batch_ideal_sorted_labels, ks=ks)\n",
    "\n",
    "    # default batch_size=1 due to testing data\n",
    "    sum_ndcg_at_ks = torch.add(sum_ndcg_at_ks, torch.squeeze(batch_ndcg_at_ks, dim=0))\n",
    "    cnt += 1\n",
    "\n",
    "avg_ndcg_at_ks = sum_ndcg_at_ks/cnt\n",
    "print(avg_ndcg_at_ks)"
   ]
  },
  {
   "cell_type": "code",
   "execution_count": null,
   "metadata": {},
   "outputs": [],
   "source": []
  }
 ],
 "metadata": {
  "colab": {
   "name": "Task2.ipynb",
   "provenance": []
  },
  "kernelspec": {
   "display_name": "Python 3",
   "language": "python",
   "name": "python3"
  },
  "language_info": {
   "codemirror_mode": {
    "name": "ipython",
    "version": 3
   },
   "file_extension": ".py",
   "mimetype": "text/x-python",
   "name": "python",
   "nbconvert_exporter": "python",
   "pygments_lexer": "ipython3",
   "version": "3.8.3"
  }
 },
 "nbformat": 4,
 "nbformat_minor": 1
}
